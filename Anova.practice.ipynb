{
 "cells": [
  {
   "cell_type": "code",
   "execution_count": 2,
   "id": "e8167c5c",
   "metadata": {},
   "outputs": [],
   "source": [
    "import pandas as pd  # dataframe\n",
    "\n",
    "############## ANOVA ##############\n",
    "import scipy.stats as stats \n",
    "import researchpy as rp \n",
    "import statsmodels.api as sm \n",
    "from statsmodels.formula.api import ols \n",
    "import statsmodels.stats.multicomp  # multiple comparision"
   ]
  },
  {
   "cell_type": "code",
   "execution_count": 4,
   "id": "3cb77c4b",
   "metadata": {},
   "outputs": [],
   "source": [
    "import os \n",
    "os.chdir(r\"F:\\IMARTICUS\\statastics\")"
   ]
  },
  {
   "cell_type": "code",
   "execution_count": 5,
   "id": "2283f4d9",
   "metadata": {
    "scrolled": true
   },
   "outputs": [
    {
     "data": {
      "text/html": [
       "<div>\n",
       "<style scoped>\n",
       "    .dataframe tbody tr th:only-of-type {\n",
       "        vertical-align: middle;\n",
       "    }\n",
       "\n",
       "    .dataframe tbody tr th {\n",
       "        vertical-align: top;\n",
       "    }\n",
       "\n",
       "    .dataframe thead th {\n",
       "        text-align: right;\n",
       "    }\n",
       "</style>\n",
       "<table border=\"1\" class=\"dataframe\">\n",
       "  <thead>\n",
       "    <tr style=\"text-align: right;\">\n",
       "      <th></th>\n",
       "      <th>Cities</th>\n",
       "      <th>shops</th>\n",
       "    </tr>\n",
       "  </thead>\n",
       "  <tbody>\n",
       "    <tr>\n",
       "      <th>0</th>\n",
       "      <td>Mumbai</td>\n",
       "      <td>16</td>\n",
       "    </tr>\n",
       "    <tr>\n",
       "      <th>1</th>\n",
       "      <td>Chennai</td>\n",
       "      <td>14</td>\n",
       "    </tr>\n",
       "    <tr>\n",
       "      <th>2</th>\n",
       "      <td>Delhi</td>\n",
       "      <td>4</td>\n",
       "    </tr>\n",
       "    <tr>\n",
       "      <th>3</th>\n",
       "      <td>Mumbai</td>\n",
       "      <td>8</td>\n",
       "    </tr>\n",
       "    <tr>\n",
       "      <th>4</th>\n",
       "      <td>Chennai</td>\n",
       "      <td>10</td>\n",
       "    </tr>\n",
       "    <tr>\n",
       "      <th>5</th>\n",
       "      <td>Delhi</td>\n",
       "      <td>10</td>\n",
       "    </tr>\n",
       "    <tr>\n",
       "      <th>6</th>\n",
       "      <td>Mumbai</td>\n",
       "      <td>12</td>\n",
       "    </tr>\n",
       "    <tr>\n",
       "      <th>7</th>\n",
       "      <td>Chennai</td>\n",
       "      <td>10</td>\n",
       "    </tr>\n",
       "    <tr>\n",
       "      <th>8</th>\n",
       "      <td>Delhi</td>\n",
       "      <td>8</td>\n",
       "    </tr>\n",
       "    <tr>\n",
       "      <th>9</th>\n",
       "      <td>Mumbai</td>\n",
       "      <td>14</td>\n",
       "    </tr>\n",
       "    <tr>\n",
       "      <th>10</th>\n",
       "      <td>Chennai</td>\n",
       "      <td>16</td>\n",
       "    </tr>\n",
       "    <tr>\n",
       "      <th>11</th>\n",
       "      <td>Delhi</td>\n",
       "      <td>8</td>\n",
       "    </tr>\n",
       "  </tbody>\n",
       "</table>\n",
       "</div>"
      ],
      "text/plain": [
       "     Cities  shops\n",
       "0    Mumbai     16\n",
       "1   Chennai     14\n",
       "2     Delhi      4\n",
       "3    Mumbai      8\n",
       "4   Chennai     10\n",
       "5     Delhi     10\n",
       "6    Mumbai     12\n",
       "7   Chennai     10\n",
       "8     Delhi      8\n",
       "9    Mumbai     14\n",
       "10  Chennai     16\n",
       "11    Delhi      8"
      ]
     },
     "execution_count": 5,
     "metadata": {},
     "output_type": "execute_result"
    }
   ],
   "source": [
    "# Loading data\n",
    "df = pd.read_excel(\"Anova.xlsx\")\n",
    "df"
   ]
  },
  {
   "cell_type": "markdown",
   "id": "ef7b2372",
   "metadata": {},
   "source": [
    "# Level of Significance or error\n",
    "Alpha = 0.05 (5%)"
   ]
  },
  {
   "cell_type": "markdown",
   "id": "f0e25d2c",
   "metadata": {},
   "source": [
    "# Hypothesis\n",
    "H0 : There is no significant difference between the all type of car with respect to sales\n",
    "\n",
    "Vs\n",
    "\n",
    "H1 : There is significant difference between the all type of car with respect to sales"
   ]
  },
  {
   "cell_type": "markdown",
   "id": "bb1fbc86",
   "metadata": {},
   "source": [
    "### Method 1"
   ]
  },
  {
   "cell_type": "code",
   "execution_count": 13,
   "id": "539624cf",
   "metadata": {},
   "outputs": [
    {
     "name": "stderr",
     "output_type": "stream",
     "text": [
      "C:\\Users\\HP\\anaconda3\\lib\\site-packages\\scipy\\stats\\_stats_py.py:3869: DegenerateDataWarning: at least one input has length 0\n",
      "  warnings.warn(stats.DegenerateDataWarning('at least one input '\n"
     ]
    },
    {
     "data": {
      "text/plain": [
       "F_onewayResult(statistic=nan, pvalue=nan)"
      ]
     },
     "execution_count": 13,
     "metadata": {},
     "output_type": "execute_result"
    }
   ],
   "source": [
    "stats.f_oneway(df['shops'][df['Cities'] == 'Mumbai'], \n",
    "             df['shops'][df['Cities'] == 'Chennei'],\n",
    "             df['shops'][df['Cities'] == 'Delhi'])"
   ]
  },
  {
   "cell_type": "markdown",
   "id": "fa491748",
   "metadata": {},
   "source": [
    "### Method 2"
   ]
  },
  {
   "cell_type": "code",
   "execution_count": 14,
   "id": "1a254b58",
   "metadata": {},
   "outputs": [],
   "source": [
    "results = ols('shops ~ C(Cities)', data=df).fit()"
   ]
  },
  {
   "cell_type": "code",
   "execution_count": 15,
   "id": "590e1627",
   "metadata": {},
   "outputs": [
    {
     "data": {
      "text/html": [
       "<div>\n",
       "<style scoped>\n",
       "    .dataframe tbody tr th:only-of-type {\n",
       "        vertical-align: middle;\n",
       "    }\n",
       "\n",
       "    .dataframe tbody tr th {\n",
       "        vertical-align: top;\n",
       "    }\n",
       "\n",
       "    .dataframe thead th {\n",
       "        text-align: right;\n",
       "    }\n",
       "</style>\n",
       "<table border=\"1\" class=\"dataframe\">\n",
       "  <thead>\n",
       "    <tr style=\"text-align: right;\">\n",
       "      <th></th>\n",
       "      <th>df</th>\n",
       "      <th>sum_sq</th>\n",
       "      <th>mean_sq</th>\n",
       "      <th>F</th>\n",
       "      <th>PR(&gt;F)</th>\n",
       "    </tr>\n",
       "  </thead>\n",
       "  <tbody>\n",
       "    <tr>\n",
       "      <th>C(Cities)</th>\n",
       "      <td>2.0</td>\n",
       "      <td>66.666667</td>\n",
       "      <td>33.333333</td>\n",
       "      <td>3.703704</td>\n",
       "      <td>0.067052</td>\n",
       "    </tr>\n",
       "    <tr>\n",
       "      <th>Residual</th>\n",
       "      <td>9.0</td>\n",
       "      <td>81.000000</td>\n",
       "      <td>9.000000</td>\n",
       "      <td>NaN</td>\n",
       "      <td>NaN</td>\n",
       "    </tr>\n",
       "  </tbody>\n",
       "</table>\n",
       "</div>"
      ],
      "text/plain": [
       "            df     sum_sq    mean_sq         F    PR(>F)\n",
       "C(Cities)  2.0  66.666667  33.333333  3.703704  0.067052\n",
       "Residual   9.0  81.000000   9.000000       NaN       NaN"
      ]
     },
     "execution_count": 15,
     "metadata": {},
     "output_type": "execute_result"
    }
   ],
   "source": [
    "aov_table = sm.stats.anova_lm(results)\n",
    "\n",
    "aov_table"
   ]
  },
  {
   "cell_type": "markdown",
   "id": "7eaf13e4",
   "metadata": {},
   "source": [
    "# Conclusion\n",
    "We do not Reject Ho\n",
    "\n",
    "There is no significant difference between the all type of car with respect to sales"
   ]
  }
 ],
 "metadata": {
  "kernelspec": {
   "display_name": "Python 3 (ipykernel)",
   "language": "python",
   "name": "python3"
  },
  "language_info": {
   "codemirror_mode": {
    "name": "ipython",
    "version": 3
   },
   "file_extension": ".py",
   "mimetype": "text/x-python",
   "name": "python",
   "nbconvert_exporter": "python",
   "pygments_lexer": "ipython3",
   "version": "3.9.13"
  }
 },
 "nbformat": 4,
 "nbformat_minor": 5
}
