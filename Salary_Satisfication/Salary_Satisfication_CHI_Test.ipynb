{
 "cells": [
  {
   "cell_type": "markdown",
   "id": "28dae531",
   "metadata": {},
   "source": [
    "### Quetion"
   ]
  },
  {
   "cell_type": "markdown",
   "id": "204707f1",
   "metadata": {},
   "source": [
    "<b>Owner of the hotel want to find the relationship between the customer satisfication and wages given to the waiter<b>\n",
    "\n",
    "<b>Owner doesthe random sample on some 100 customer and categorizing the services as Excellent, Good, poor<b>\n",
    "\n",
    "<b>He also categories salary as High, Medium, and Low<b>\n",
    "\n",
    "<b>Assume at .05 significance and 4 degree of freedom Chi value is<b>"
   ]
  },
  {
   "cell_type": "markdown",
   "id": "40c779ff",
   "metadata": {},
   "source": [
    "______________________________________________________________________________________________"
   ]
  },
  {
   "cell_type": "markdown",
   "id": "8bc9aaf5",
   "metadata": {},
   "source": [
    "### Sample Table as Bellow"
   ]
  },
  {
   "cell_type": "code",
   "execution_count": 4,
   "id": "9057e0cf",
   "metadata": {},
   "outputs": [
    {
     "data": {
      "image/png": "[encoded data removed]",
      "text/plain": [
       "<IPython.core.display.Image object>"
      ]
     },
     "execution_count": 4,
     "metadata": {},
     "output_type": "execute_result"
    }
   ],
   "source": [
    "from IPython import display\n",
    "display.Image('htl.PNG')"
   ]
  },
  {
   "cell_type": "code",
   "execution_count": 3,
   "id": "3b200186",
   "metadata": {},
   "outputs": [],
   "source": [
    "import pandas as pd"
   ]
  },
  {
   "cell_type": "code",
   "execution_count": 4,
   "id": "1eafaad8",
   "metadata": {},
   "outputs": [],
   "source": [
    "sal_sat = pd.read_csv('salary_satisfaction.csv')"
   ]
  },
  {
   "cell_type": "code",
   "execution_count": 5,
   "id": "513a698a",
   "metadata": {},
   "outputs": [
    {
     "data": {
      "text/plain": [
       "(100, 2)"
      ]
     },
     "execution_count": 5,
     "metadata": {},
     "output_type": "execute_result"
    }
   ],
   "source": [
    "sal_sat.shape"
   ]
  },
  {
   "cell_type": "code",
   "execution_count": 6,
   "id": "497b646c",
   "metadata": {},
   "outputs": [
    {
     "data": {
      "text/plain": [
       "good         51\n",
       "excellent    26\n",
       "poor         23\n",
       "Name: Service, dtype: int64"
      ]
     },
     "execution_count": 6,
     "metadata": {},
     "output_type": "execute_result"
    }
   ],
   "source": [
    "sal_sat.Service.value_counts()"
   ]
  },
  {
   "cell_type": "code",
   "execution_count": 7,
   "id": "3a581ed0",
   "metadata": {},
   "outputs": [
    {
     "data": {
      "text/html": [
       "<div>\n",
       "<style scoped>\n",
       "    .dataframe tbody tr th:only-of-type {\n",
       "        vertical-align: middle;\n",
       "    }\n",
       "\n",
       "    .dataframe tbody tr th {\n",
       "        vertical-align: top;\n",
       "    }\n",
       "\n",
       "    .dataframe thead th {\n",
       "        text-align: right;\n",
       "    }\n",
       "</style>\n",
       "<table border=\"1\" class=\"dataframe\">\n",
       "  <thead>\n",
       "    <tr style=\"text-align: right;\">\n",
       "      <th></th>\n",
       "      <th>Service</th>\n",
       "      <th>Salary</th>\n",
       "    </tr>\n",
       "  </thead>\n",
       "  <tbody>\n",
       "    <tr>\n",
       "      <th>0</th>\n",
       "      <td>excellent</td>\n",
       "      <td>low</td>\n",
       "    </tr>\n",
       "    <tr>\n",
       "      <th>1</th>\n",
       "      <td>excellent</td>\n",
       "      <td>low</td>\n",
       "    </tr>\n",
       "    <tr>\n",
       "      <th>2</th>\n",
       "      <td>excellent</td>\n",
       "      <td>low</td>\n",
       "    </tr>\n",
       "    <tr>\n",
       "      <th>3</th>\n",
       "      <td>excellent</td>\n",
       "      <td>low</td>\n",
       "    </tr>\n",
       "    <tr>\n",
       "      <th>4</th>\n",
       "      <td>excellent</td>\n",
       "      <td>low</td>\n",
       "    </tr>\n",
       "  </tbody>\n",
       "</table>\n",
       "</div>"
      ],
      "text/plain": [
       "     Service Salary\n",
       "0  excellent    low\n",
       "1  excellent    low\n",
       "2  excellent    low\n",
       "3  excellent    low\n",
       "4  excellent    low"
      ]
     },
     "execution_count": 7,
     "metadata": {},
     "output_type": "execute_result"
    }
   ],
   "source": [
    "sal_sat.head()"
   ]
  },
  {
   "cell_type": "code",
   "execution_count": 8,
   "id": "e8d5b0c0",
   "metadata": {},
   "outputs": [],
   "source": [
    "tab1 = pd.crosstab(sal_sat.Service, sal_sat.Salary)"
   ]
  },
  {
   "cell_type": "code",
   "execution_count": 9,
   "id": "a1adc2ce",
   "metadata": {},
   "outputs": [
    {
     "data": {
      "text/html": [
       "<div>\n",
       "<style scoped>\n",
       "    .dataframe tbody tr th:only-of-type {\n",
       "        vertical-align: middle;\n",
       "    }\n",
       "\n",
       "    .dataframe tbody tr th {\n",
       "        vertical-align: top;\n",
       "    }\n",
       "\n",
       "    .dataframe thead th {\n",
       "        text-align: right;\n",
       "    }\n",
       "</style>\n",
       "<table border=\"1\" class=\"dataframe\">\n",
       "  <thead>\n",
       "    <tr style=\"text-align: right;\">\n",
       "      <th>Salary</th>\n",
       "      <th>high</th>\n",
       "      <th>low</th>\n",
       "      <th>medium</th>\n",
       "    </tr>\n",
       "    <tr>\n",
       "      <th>Service</th>\n",
       "      <th></th>\n",
       "      <th></th>\n",
       "      <th></th>\n",
       "    </tr>\n",
       "  </thead>\n",
       "  <tbody>\n",
       "    <tr>\n",
       "      <th>excellent</th>\n",
       "      <td>7</td>\n",
       "      <td>9</td>\n",
       "      <td>10</td>\n",
       "    </tr>\n",
       "    <tr>\n",
       "      <th>good</th>\n",
       "      <td>31</td>\n",
       "      <td>11</td>\n",
       "      <td>9</td>\n",
       "    </tr>\n",
       "    <tr>\n",
       "      <th>poor</th>\n",
       "      <td>3</td>\n",
       "      <td>12</td>\n",
       "      <td>8</td>\n",
       "    </tr>\n",
       "  </tbody>\n",
       "</table>\n",
       "</div>"
      ],
      "text/plain": [
       "Salary     high  low  medium\n",
       "Service                     \n",
       "excellent     7    9      10\n",
       "good         31   11       9\n",
       "poor          3   12       8"
      ]
     },
     "execution_count": 9,
     "metadata": {},
     "output_type": "execute_result"
    }
   ],
   "source": [
    "tab1"
   ]
  },
  {
   "cell_type": "code",
   "execution_count": 10,
   "id": "559f6bcd",
   "metadata": {},
   "outputs": [],
   "source": [
    "from scipy.stats import chi2_contingency"
   ]
  },
  {
   "cell_type": "code",
   "execution_count": 11,
   "id": "5bbd18ea",
   "metadata": {},
   "outputs": [
    {
     "data": {
      "text/plain": [
       "(18.658230409973125,\n",
       " 0.0009172334128317392,\n",
       " 4,\n",
       " array([[10.66,  8.32,  7.02],\n",
       "        [20.91, 16.32, 13.77],\n",
       "        [ 9.43,  7.36,  6.21]]))"
      ]
     },
     "execution_count": 11,
     "metadata": {},
     "output_type": "execute_result"
    }
   ],
   "source": [
    "chi2_contingency(tab1)"
   ]
  },
  {
   "cell_type": "code",
   "execution_count": 29,
   "id": "d5a40f36",
   "metadata": {},
   "outputs": [],
   "source": [
    "def chi_square_test (a):\n",
    "    Pvalues = chi2_contingency(a)[1]\n",
    "    if Pvalues < 0.05:\n",
    "        print(\"Pvalue is -->\",Pvalues)\n",
    "        print(\"Reject the null Hypothesis because Pvalue is less than 0.05\")\n",
    "        print(\"There is relationship between salary and Service\")\n",
    "    else:\n",
    "        print(\"Pvalue is -->\",Pvalues)\n",
    "        print(\"Fail to reject the null because Pvalue is greater than 0.05\")\n",
    "        print(\"There is no relationship between Salary and Service\")\n",
    "        \n",
    "    \n",
    "    \n"
   ]
  },
  {
   "cell_type": "code",
   "execution_count": 28,
   "id": "e7ff7679",
   "metadata": {},
   "outputs": [
    {
     "name": "stdout",
     "output_type": "stream",
     "text": [
      "Pvalue is --> 0.0009172334128317392\n",
      "Reject the null Hypothesis because Pvalue is less than 0.05\n",
      "There is relationship between salary and Service\n"
     ]
    }
   ],
   "source": [
    "chi_square_test(tab1)"
   ]
  },
  {
   "cell_type": "markdown",
   "id": "e155e80f",
   "metadata": {},
   "source": [
    "## Conclusion"
   ]
  },
  {
   "cell_type": "markdown",
   "id": "50df4162",
   "metadata": {},
   "source": [
    "### There is Relationship between Wages and Service"
   ]
  },
  {
   "cell_type": "code",
   "execution_count": null,
   "id": "7b829205",
   "metadata": {},
   "outputs": [],
   "source": []
  }
 ],
 "metadata": {
  "kernelspec": {
   "display_name": "Python 3 (ipykernel)",
   "language": "python",
   "name": "python3"
  },
  "language_info": {
   "codemirror_mode": {
    "name": "ipython",
    "version": 3
   },
   "file_extension": ".py",
   "mimetype": "text/x-python",
   "name": "python",
   "nbconvert_exporter": "python",
   "pygments_lexer": "ipython3",
   "version": "3.9.13"
  }
 },
 "nbformat": 4,
 "nbformat_minor": 5
}
