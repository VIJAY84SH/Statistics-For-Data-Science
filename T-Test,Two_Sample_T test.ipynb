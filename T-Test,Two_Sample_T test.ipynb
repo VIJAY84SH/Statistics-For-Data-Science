{
 "cells": [
  {
   "cell_type": "code",
   "execution_count": 1,
   "id": "2fbeecaa",
   "metadata": {},
   "outputs": [],
   "source": [
    "import pandas as pd"
   ]
  },
  {
   "cell_type": "code",
   "execution_count": 4,
   "id": "52657255",
   "metadata": {},
   "outputs": [
    {
     "data": {
      "text/html": [
       "<div>\n",
       "<style scoped>\n",
       "    .dataframe tbody tr th:only-of-type {\n",
       "        vertical-align: middle;\n",
       "    }\n",
       "\n",
       "    .dataframe tbody tr th {\n",
       "        vertical-align: top;\n",
       "    }\n",
       "\n",
       "    .dataframe thead th {\n",
       "        text-align: right;\n",
       "    }\n",
       "</style>\n",
       "<table border=\"1\" class=\"dataframe\">\n",
       "  <thead>\n",
       "    <tr style=\"text-align: right;\">\n",
       "      <th></th>\n",
       "      <th>Id</th>\n",
       "      <th>Age</th>\n",
       "      <th>Job</th>\n",
       "      <th>Marital</th>\n",
       "      <th>Education</th>\n",
       "      <th>Default</th>\n",
       "      <th>Balance</th>\n",
       "      <th>HHInsurance</th>\n",
       "      <th>CarLoan</th>\n",
       "      <th>Communication</th>\n",
       "      <th>LastContactDay</th>\n",
       "      <th>LastContactMonth</th>\n",
       "      <th>NoOfContacts</th>\n",
       "      <th>DaysPassed</th>\n",
       "      <th>PrevAttempts</th>\n",
       "      <th>CarInsurance</th>\n",
       "    </tr>\n",
       "  </thead>\n",
       "  <tbody>\n",
       "    <tr>\n",
       "      <th>0</th>\n",
       "      <td>1</td>\n",
       "      <td>32</td>\n",
       "      <td>management</td>\n",
       "      <td>single</td>\n",
       "      <td>tertiary</td>\n",
       "      <td>No</td>\n",
       "      <td>1218</td>\n",
       "      <td>Yes</td>\n",
       "      <td>No</td>\n",
       "      <td>telephone</td>\n",
       "      <td>28</td>\n",
       "      <td>jan</td>\n",
       "      <td>2</td>\n",
       "      <td>-1</td>\n",
       "      <td>0</td>\n",
       "      <td>No</td>\n",
       "    </tr>\n",
       "    <tr>\n",
       "      <th>1</th>\n",
       "      <td>3</td>\n",
       "      <td>29</td>\n",
       "      <td>management</td>\n",
       "      <td>single</td>\n",
       "      <td>tertiary</td>\n",
       "      <td>No</td>\n",
       "      <td>637</td>\n",
       "      <td>Yes</td>\n",
       "      <td>No</td>\n",
       "      <td>cellular</td>\n",
       "      <td>3</td>\n",
       "      <td>jun</td>\n",
       "      <td>1</td>\n",
       "      <td>119</td>\n",
       "      <td>1</td>\n",
       "      <td>Yes</td>\n",
       "    </tr>\n",
       "    <tr>\n",
       "      <th>2</th>\n",
       "      <td>4</td>\n",
       "      <td>25</td>\n",
       "      <td>student</td>\n",
       "      <td>single</td>\n",
       "      <td>primary</td>\n",
       "      <td>No</td>\n",
       "      <td>373</td>\n",
       "      <td>Yes</td>\n",
       "      <td>No</td>\n",
       "      <td>cellular</td>\n",
       "      <td>11</td>\n",
       "      <td>may</td>\n",
       "      <td>2</td>\n",
       "      <td>-1</td>\n",
       "      <td>0</td>\n",
       "      <td>Yes</td>\n",
       "    </tr>\n",
       "    <tr>\n",
       "      <th>3</th>\n",
       "      <td>5</td>\n",
       "      <td>30</td>\n",
       "      <td>management</td>\n",
       "      <td>married</td>\n",
       "      <td>tertiary</td>\n",
       "      <td>No</td>\n",
       "      <td>2694</td>\n",
       "      <td>No</td>\n",
       "      <td>No</td>\n",
       "      <td>cellular</td>\n",
       "      <td>3</td>\n",
       "      <td>jun</td>\n",
       "      <td>1</td>\n",
       "      <td>-1</td>\n",
       "      <td>0</td>\n",
       "      <td>No</td>\n",
       "    </tr>\n",
       "    <tr>\n",
       "      <th>4</th>\n",
       "      <td>6</td>\n",
       "      <td>32</td>\n",
       "      <td>technician</td>\n",
       "      <td>single</td>\n",
       "      <td>tertiary</td>\n",
       "      <td>No</td>\n",
       "      <td>1625</td>\n",
       "      <td>No</td>\n",
       "      <td>No</td>\n",
       "      <td>cellular</td>\n",
       "      <td>22</td>\n",
       "      <td>may</td>\n",
       "      <td>1</td>\n",
       "      <td>109</td>\n",
       "      <td>1</td>\n",
       "      <td>Yes</td>\n",
       "    </tr>\n",
       "  </tbody>\n",
       "</table>\n",
       "</div>"
      ],
      "text/plain": [
       "   Id  Age         Job  Marital Education Default  Balance HHInsurance  \\\n",
       "0   1   32  management   single  tertiary      No     1218         Yes   \n",
       "1   3   29  management   single  tertiary      No      637         Yes   \n",
       "2   4   25     student   single   primary      No      373         Yes   \n",
       "3   5   30  management  married  tertiary      No     2694          No   \n",
       "4   6   32  technician   single  tertiary      No     1625          No   \n",
       "\n",
       "  CarLoan Communication  LastContactDay LastContactMonth  NoOfContacts  \\\n",
       "0      No     telephone              28              jan             2   \n",
       "1      No      cellular               3              jun             1   \n",
       "2      No      cellular              11              may             2   \n",
       "3      No      cellular               3              jun             1   \n",
       "4      No      cellular              22              may             1   \n",
       "\n",
       "   DaysPassed  PrevAttempts CarInsurance  \n",
       "0          -1             0           No  \n",
       "1         119             1          Yes  \n",
       "2          -1             0          Yes  \n",
       "3          -1             0           No  \n",
       "4         109             1          Yes  "
      ]
     },
     "execution_count": 4,
     "metadata": {},
     "output_type": "execute_result"
    }
   ],
   "source": [
    "df = pd.read_csv(\"carInsurance_data.csv\")\n",
    "df.head()"
   ]
  },
  {
   "cell_type": "markdown",
   "id": "21542d20",
   "metadata": {},
   "source": [
    "### Population Mean"
   ]
  },
  {
   "cell_type": "code",
   "execution_count": 25,
   "id": "d66e0b58",
   "metadata": {},
   "outputs": [
    {
     "data": {
      "text/plain": [
       "1642.2185072610605"
      ]
     },
     "execution_count": 25,
     "metadata": {},
     "output_type": "execute_result"
    }
   ],
   "source": [
    "df['Balance'].mean()"
   ]
  },
  {
   "cell_type": "markdown",
   "id": "e9a7ddab",
   "metadata": {},
   "source": [
    "## T Test"
   ]
  },
  {
   "cell_type": "code",
   "execution_count": 32,
   "id": "17d81245",
   "metadata": {},
   "outputs": [
    {
     "data": {
      "text/plain": [
       "20     900\n",
       "21    3859\n",
       "22       0\n",
       "23    6981\n",
       "24     842\n",
       "25    1057\n",
       "26     300\n",
       "27       0\n",
       "28     138\n",
       "29     216\n",
       "Name: Balance, dtype: int64"
      ]
     },
     "execution_count": 32,
     "metadata": {},
     "output_type": "execute_result"
    }
   ],
   "source": [
    "a = df['Balance'].iloc[20:30]\n",
    "a"
   ]
  },
  {
   "cell_type": "code",
   "execution_count": 31,
   "id": "d27e0485",
   "metadata": {
    "scrolled": true
   },
   "outputs": [
    {
     "data": {
      "text/html": [
       "<div>\n",
       "<style scoped>\n",
       "    .dataframe tbody tr th:only-of-type {\n",
       "        vertical-align: middle;\n",
       "    }\n",
       "\n",
       "    .dataframe tbody tr th {\n",
       "        vertical-align: top;\n",
       "    }\n",
       "\n",
       "    .dataframe thead th {\n",
       "        text-align: right;\n",
       "    }\n",
       "</style>\n",
       "<table border=\"1\" class=\"dataframe\">\n",
       "  <thead>\n",
       "    <tr style=\"text-align: right;\">\n",
       "      <th></th>\n",
       "      <th>T</th>\n",
       "      <th>dof</th>\n",
       "      <th>alternative</th>\n",
       "      <th>p-val</th>\n",
       "      <th>CI95%</th>\n",
       "      <th>cohen-d</th>\n",
       "      <th>BF10</th>\n",
       "      <th>power</th>\n",
       "    </tr>\n",
       "  </thead>\n",
       "  <tbody>\n",
       "    <tr>\n",
       "      <th>T-test</th>\n",
       "      <td>-0.297856</td>\n",
       "      <td>9</td>\n",
       "      <td>two-sided</td>\n",
       "      <td>0.772574</td>\n",
       "      <td>[-187.77, 3046.37]</td>\n",
       "      <td>0.09419</td>\n",
       "      <td>0.321</td>\n",
       "      <td>0.058238</td>\n",
       "    </tr>\n",
       "  </tbody>\n",
       "</table>\n",
       "</div>"
      ],
      "text/plain": [
       "               T  dof alternative     p-val               CI95%  cohen-d  \\\n",
       "T-test -0.297856    9   two-sided  0.772574  [-187.77, 3046.37]  0.09419   \n",
       "\n",
       "         BF10     power  \n",
       "T-test  0.321  0.058238  "
      ]
     },
     "execution_count": 31,
     "metadata": {},
     "output_type": "execute_result"
    }
   ],
   "source": [
    "import pingouin as pg1\n",
    "pg.ttest(df['Balance'].iloc[20:30],df['Balance'].mean(),alternative='two-sided',confidence=0.95)"
   ]
  },
  {
   "cell_type": "raw",
   "id": "fbf4ee2e",
   "metadata": {},
   "source": [
    "P-value = 0.77 >=  0.05 , So We Accept the Ho\n",
    "There is no significant difference between sample mean and Population mean (μ≠M)\n",
    "95% confidence that sample mean while come between lower Limit = -187.77 & Upper Limit = 3046.37"
   ]
  },
  {
   "cell_type": "markdown",
   "id": "0f458aeb",
   "metadata": {},
   "source": [
    "## Two Sample T-Test"
   ]
  },
  {
   "cell_type": "code",
   "execution_count": 33,
   "id": "c4fdf69a",
   "metadata": {},
   "outputs": [
    {
     "data": {
      "text/html": [
       "<div>\n",
       "<style scoped>\n",
       "    .dataframe tbody tr th:only-of-type {\n",
       "        vertical-align: middle;\n",
       "    }\n",
       "\n",
       "    .dataframe tbody tr th {\n",
       "        vertical-align: top;\n",
       "    }\n",
       "\n",
       "    .dataframe thead th {\n",
       "        text-align: right;\n",
       "    }\n",
       "</style>\n",
       "<table border=\"1\" class=\"dataframe\">\n",
       "  <thead>\n",
       "    <tr style=\"text-align: right;\">\n",
       "      <th></th>\n",
       "      <th>T</th>\n",
       "      <th>dof</th>\n",
       "      <th>alternative</th>\n",
       "      <th>p-val</th>\n",
       "      <th>CI95%</th>\n",
       "      <th>cohen-d</th>\n",
       "      <th>BF10</th>\n",
       "      <th>power</th>\n",
       "    </tr>\n",
       "  </thead>\n",
       "  <tbody>\n",
       "    <tr>\n",
       "      <th>T-test</th>\n",
       "      <td>-3.67214</td>\n",
       "      <td>18</td>\n",
       "      <td>two-sided</td>\n",
       "      <td>0.001744</td>\n",
       "      <td>[-30.34, -8.26]</td>\n",
       "      <td>1.642231</td>\n",
       "      <td>19.372</td>\n",
       "      <td>0.934497</td>\n",
       "    </tr>\n",
       "  </tbody>\n",
       "</table>\n",
       "</div>"
      ],
      "text/plain": [
       "              T  dof alternative     p-val            CI95%   cohen-d    BF10  \\\n",
       "T-test -3.67214   18   two-sided  0.001744  [-30.34, -8.26]  1.642231  19.372   \n",
       "\n",
       "           power  \n",
       "T-test  0.934497  "
      ]
     },
     "execution_count": 33,
     "metadata": {},
     "output_type": "execute_result"
    }
   ],
   "source": [
    "# T-test\n",
    "import pingouin as pg\n",
    "pg.ttest(df['Age'].iloc[0:10],df['Age'].iloc[10:20],alternative='two-sided',confidence=0.95)"
   ]
  },
  {
   "cell_type": "markdown",
   "id": "fa90bb97",
   "metadata": {},
   "source": [
    "Accept Ho : there is relationship between two sample"
   ]
  },
  {
   "cell_type": "markdown",
   "id": "57506cf2",
   "metadata": {},
   "source": [
    "## CHI- Square Test"
   ]
  },
  {
   "cell_type": "code",
   "execution_count": 34,
   "id": "8ad6f7c4",
   "metadata": {},
   "outputs": [],
   "source": [
    "tab1 = pd.crosstab(df.Marital, df.Education)"
   ]
  },
  {
   "cell_type": "code",
   "execution_count": 35,
   "id": "51684b6f",
   "metadata": {},
   "outputs": [],
   "source": [
    "from scipy.stats import chi2_contingency"
   ]
  },
  {
   "cell_type": "code",
   "execution_count": 36,
   "id": "245f3afb",
   "metadata": {},
   "outputs": [
    {
     "data": {
      "text/plain": [
       "(79.0332069293724,\n",
       " 2.791195155932752e-16,\n",
       " 4,\n",
       " array([[ 47.37048294, 177.57919622, 131.05032084],\n",
       "        [223.67916245, 838.51300236, 618.80783519],\n",
       "        [122.95035461, 460.90780142, 340.14184397]]))"
      ]
     },
     "execution_count": 36,
     "metadata": {},
     "output_type": "execute_result"
    }
   ],
   "source": [
    "chi2_contingency(tab1)"
   ]
  },
  {
   "cell_type": "code",
   "execution_count": null,
   "id": "c4e01220",
   "metadata": {},
   "outputs": [],
   "source": [
    "2.79 < 0.05  so reject the Null ..there is no relation betn Marital & Education"
   ]
  }
 ],
 "metadata": {
  "kernelspec": {
   "display_name": "Python 3 (ipykernel)",
   "language": "python",
   "name": "python3"
  },
  "language_info": {
   "codemirror_mode": {
    "name": "ipython",
    "version": 3
   },
   "file_extension": ".py",
   "mimetype": "text/x-python",
   "name": "python",
   "nbconvert_exporter": "python",
   "pygments_lexer": "ipython3",
   "version": "3.9.13"
  }
 },
 "nbformat": 4,
 "nbformat_minor": 5
}
