{
 "cells": [
  {
   "cell_type": "markdown",
   "id": "8812f54e",
   "metadata": {},
   "source": [
    "# Method \n",
    "\n",
    "1. Shapiro Test\n",
    " * when data is less than 5000 observations \n",
    "\n",
    "2. Jarque Bera Test\n",
    "    * when data is More than 5000 observations \n"
   ]
  },
  {
   "cell_type": "markdown",
   "id": "15d5f6d5",
   "metadata": {},
   "source": [
    "# Shapiro Test"
   ]
  },
  {
   "cell_type": "markdown",
   "id": "aa639a82",
   "metadata": {},
   "source": [
    "Hypothesis\n",
    "\n",
    "* Ho :- Data follows Normal Distributions\n",
    "* H1 :- Data Does not follows Normal Distributions"
   ]
  },
  {
   "cell_type": "code",
   "execution_count": 1,
   "id": "b6b413e0",
   "metadata": {
    "collapsed": true,
    "jupyter": {
     "outputs_hidden": true
    }
   },
   "outputs": [
    {
     "name": "stdout",
     "output_type": "stream",
     "text": [
      "Number of Row :  200\n"
     ]
    },
    {
     "data": {
      "text/plain": [
       "array([41.74428928, 76.65602768, 78.08352562, 42.42873118, 95.34249943,\n",
       "       27.7853828 , 76.13188319,  7.73122185, 10.36216288, 26.7539718 ,\n",
       "        8.79760551, 11.40858904,  6.36371717, 58.53789316,  4.97777537,\n",
       "       42.428251  , 37.16130563, 47.82033901, 99.63082786, 46.34416788,\n",
       "       78.52317735, 46.59720301, 57.29144663, 99.83457888, 81.08800853,\n",
       "       13.24051475, 57.34309813, 38.44614188, 87.66816116, 24.02725897,\n",
       "       50.63410958, 55.17832892, 41.76300846, 70.18268032, 52.46845506,\n",
       "       50.0904726 , 29.588268  , 40.00474343, 11.71446286, 21.44611202,\n",
       "       34.28560114, 41.19229257, 66.73656847, 55.02433036, 81.44083286,\n",
       "       23.2059224 , 12.93787962, 11.00927285, 73.21294706, 94.66378101,\n",
       "       85.78112992, 97.54680766, 90.59357663,  4.5117807 , 75.00010048,\n",
       "       81.07367076, 34.59002773, 77.82945882,  4.97004396, 50.52773384,\n",
       "       41.88090061, 74.30909358, 27.20376828,  8.87693718, 47.41379017,\n",
       "       75.04835159, 41.01343706, 59.314422  , 63.28612902, 88.76158421,\n",
       "       67.89474676, 18.20065258, 38.41207568, 71.64094718, 90.44447868,\n",
       "       71.01245985,  0.94115503, 23.53824618,  1.80850908, 24.53673505,\n",
       "       96.87033209, 32.51562023, 24.89812335, 34.88361103, 89.54717738,\n",
       "       66.85759014, 17.10945081, 25.38580401, 21.31652484,  5.61414213,\n",
       "       68.92883014, 75.47650612, 82.11114472, 30.93683195, 32.04933759,\n",
       "       82.76914662, 13.01899063,  9.20591868, 75.34169231,  9.47335092,\n",
       "       57.51941482, 22.90410339, 10.4998363 , 85.12113129, 41.93865962,\n",
       "       44.27580048, 75.71739843, 19.41554845, 99.96337954, 75.88272971,\n",
       "        3.90261883, 70.50260379, 73.46864977, 80.77743   , 28.90419261,\n",
       "       75.76197256, 60.6203052 , 55.4798067 , 47.80442216, 18.83762211,\n",
       "       12.62378532, 92.53420729, 13.84927156, 38.09935649, 46.11219566,\n",
       "       71.37869637,  9.78380751, 72.55258365, 83.96584561, 10.64123216,\n",
       "        1.39829159, 92.4390208 , 71.58096302, 94.70221448, 54.54612284,\n",
       "       16.51317569, 56.10058473, 38.10450351, 61.25494067, 91.94031627,\n",
       "        3.89181497, 83.52628671, 86.59066788, 39.67897654, 34.4932052 ,\n",
       "        4.90543854, 27.23724857, 37.3826053 , 62.3541556 , 24.43521257,\n",
       "       39.32763692, 58.83522327, 12.33000897, 33.17537962, 25.19611681,\n",
       "       53.72009902, 61.12677469,  5.80370953, 43.71940654, 16.74196686,\n",
       "       10.92658476, 57.70364196,  3.02141549, 40.84306968, 18.55543548,\n",
       "       88.4243474 , 97.82735834, 15.44189508, 21.73853593, 28.51831417,\n",
       "       44.13288792, 32.92145289, 16.87519273, 74.53818391, 82.66723184,\n",
       "       17.55866561, 24.11896242, 63.1903862 , 28.68163394, 41.34132989,\n",
       "       14.27619027, 19.03270136, 65.91726371, 31.65768188, 15.03394959,\n",
       "       77.27647476, 44.70616642,  3.6014623 , 28.47861744, 32.78558413,\n",
       "       83.18729359, 48.89126342, 22.20202596, 29.98951967, 85.6826598 ,\n",
       "       46.67028596, 56.01638019, 34.08293187, 97.31220651, 86.84503157])"
      ]
     },
     "execution_count": 1,
     "metadata": {},
     "output_type": "execute_result"
    }
   ],
   "source": [
    "import numpy as np\n",
    "x = np.random.random(200)*100  # 0 -- 1\n",
    "print('Number of Row : ', len(x))\n",
    "x"
   ]
  },
  {
   "cell_type": "code",
   "execution_count": 4,
   "id": "72366957",
   "metadata": {},
   "outputs": [
    {
     "name": "stdout",
     "output_type": "stream",
     "text": [
      "Test Statistics :  0.9470346570014954\n",
      "Alpha :  0.05\n",
      "P-value :  9.87168959909468e-07\n"
     ]
    }
   ],
   "source": [
    "from scipy.stats import shapiro\n",
    "stats,p = shapiro(x)\n",
    "print('Test Statistics : ',stats)\n",
    "print('Alpha : ',0.05)\n",
    "print('P-value : ',p) # 0.0000009"
   ]
  },
  {
   "cell_type": "markdown",
   "id": "d66ef8e6",
   "metadata": {},
   "source": [
    "* We Reject Ho\n",
    "* Data Does not follows Normal Distributions"
   ]
  },
  {
   "cell_type": "markdown",
   "id": "b3c927f3",
   "metadata": {},
   "source": [
    "# Jarque-Bera Test"
   ]
  },
  {
   "cell_type": "markdown",
   "id": "f12e867d",
   "metadata": {},
   "source": [
    "Hypothesis\n",
    "\n",
    "* Ho :- Data follows Normal Distributions\n",
    "* H1 :- Data Does not follows Normal Distributions"
   ]
  },
  {
   "cell_type": "code",
   "execution_count": 2,
   "id": "3d0447ba",
   "metadata": {},
   "outputs": [
    {
     "name": "stdout",
     "output_type": "stream",
     "text": [
      "Number of Row:  6000\n"
     ]
    },
    {
     "data": {
      "text/plain": [
       "array([3.31797906, 2.98330159, 4.49623257, ..., 3.09301803, 3.39972502,\n",
       "       4.40959786])"
      ]
     },
     "execution_count": 2,
     "metadata": {},
     "output_type": "execute_result"
    }
   ],
   "source": [
    "import numpy as np\n",
    "y = np.random.normal(loc=4,scale=0.7,size=6000)\n",
    "print('Number of Row: ', len(y))\n",
    "y"
   ]
  },
  {
   "cell_type": "code",
   "execution_count": 8,
   "id": "77074175",
   "metadata": {},
   "outputs": [
    {
     "name": "stdout",
     "output_type": "stream",
     "text": [
      "Test Statistics :  6.8900551385722775\n",
      "Alpha   :  0.05\n",
      "P-value :  0.031903882463218784\n"
     ]
    }
   ],
   "source": [
    "from scipy.stats import jarque_bera\n",
    "stats,p = jarque_bera(y)\n",
    "print('Test Statistics : ',stats)\n",
    "print('Alpha   : ',0.05)\n",
    "print('P-value : ',p)"
   ]
  },
  {
   "cell_type": "markdown",
   "id": "c7c62325",
   "metadata": {},
   "source": [
    "* We Reject Ho\n",
    "* Data Does not follows Normal Distributions"
   ]
  },
  {
   "cell_type": "markdown",
   "id": "4156dbc5",
   "metadata": {},
   "source": [
    "# Finished"
   ]
  }
 ],
 "metadata": {
  "kernelspec": {
   "display_name": "Python 3 (ipykernel)",
   "language": "python",
   "name": "python3"
  },
  "language_info": {
   "codemirror_mode": {
    "name": "ipython",
    "version": 3
   },
   "file_extension": ".py",
   "mimetype": "text/x-python",
   "name": "python",
   "nbconvert_exporter": "python",
   "pygments_lexer": "ipython3",
   "version": "3.11.3"
  }
 },
 "nbformat": 4,
 "nbformat_minor": 5
}
